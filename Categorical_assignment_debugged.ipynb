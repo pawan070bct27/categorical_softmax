{
  "nbformat": 4,
  "nbformat_minor": 0,
  "metadata": {
    "colab": {
      "name": "Categorical_assignment_debugged.ipynb",
      "provenance": [],
      "collapsed_sections": []
    },
    "kernelspec": {
      "name": "python3",
      "display_name": "Python 3"
    }
  },
  "cells": [
    {
      "cell_type": "code",
      "metadata": {
        "id": "IiMkKRqir12g"
      },
      "source": [
        ""
      ],
      "execution_count": 1,
      "outputs": []
    },
    {
      "cell_type": "markdown",
      "metadata": {
        "id": "nrBr85RIBTVM"
      },
      "source": [
        "Solution for Q.NO.1"
      ]
    },
    {
      "cell_type": "code",
      "metadata": {
        "id": "9_iE2lbnBOtg"
      },
      "source": [
        "import pandas as pd\n",
        "import numpy as np"
      ],
      "execution_count": 2,
      "outputs": []
    },
    {
      "cell_type": "code",
      "metadata": {
        "id": "ft3Bfk0AsckR"
      },
      "source": [
        "data = pd.read_csv('Target_values.csv')"
      ],
      "execution_count": 3,
      "outputs": []
    },
    {
      "cell_type": "code",
      "metadata": {
        "id": "f2z49JBc6ImP"
      },
      "source": [
        "n = len(data.values)\n",
        "new_data = data.values\n",
        "categorical = np.zeros((n,n), dtype = float)\n"
      ],
      "execution_count": 4,
      "outputs": []
    },
    {
      "cell_type": "code",
      "metadata": {
        "id": "2AJ5Pox-5vaR"
      },
      "source": [
        "def conversion(data):\n",
        "  n = len(data.values)\n",
        "  new_data = data.values\n",
        "  categorical = np.zeros((n,n), dtype = float)\n",
        "  for i in range(n):\n",
        "    categorical[[i],new_data[i]] = 1\n",
        "  return categorical\n"
      ],
      "execution_count": 5,
      "outputs": []
    },
    {
      "cell_type": "code",
      "metadata": {
        "id": "M55FbAa-ySew",
        "outputId": "7efc81a9-9c4c-4bc0-c75d-c7ae3fd4badf",
        "colab": {
          "base_uri": "https://localhost:8080/",
          "height": 187
        }
      },
      "source": [
        "a = conversion(data)\n",
        "a\n"
      ],
      "execution_count": 6,
      "outputs": [
        {
          "output_type": "execute_result",
          "data": {
            "text/plain": [
              "array([[0., 0., 0., 0., 1., 0., 0., 0., 0., 0.],\n",
              "       [0., 1., 0., 0., 0., 0., 0., 0., 0., 0.],\n",
              "       [1., 0., 0., 0., 0., 0., 0., 0., 0., 0.],\n",
              "       [0., 0., 0., 1., 0., 0., 0., 0., 0., 0.],\n",
              "       [0., 0., 0., 1., 0., 0., 0., 0., 0., 0.],\n",
              "       [0., 0., 1., 0., 0., 0., 0., 0., 0., 0.],\n",
              "       [0., 0., 0., 0., 1., 0., 0., 0., 0., 0.],\n",
              "       [1., 0., 0., 0., 0., 0., 0., 0., 0., 0.],\n",
              "       [0., 1., 0., 0., 0., 0., 0., 0., 0., 0.],\n",
              "       [0., 0., 1., 0., 0., 0., 0., 0., 0., 0.]])"
            ]
          },
          "metadata": {
            "tags": []
          },
          "execution_count": 6
        }
      ]
    },
    {
      "cell_type": "code",
      "metadata": {
        "id": "4Cdcy1h1XkO5"
      },
      "source": [
        ""
      ],
      "execution_count": 6,
      "outputs": []
    },
    {
      "cell_type": "markdown",
      "metadata": {
        "id": "P4FxDwocBcR9"
      },
      "source": [
        "Solution to Q.no 2"
      ]
    },
    {
      "cell_type": "code",
      "metadata": {
        "id": "shssX5H6_gZ7"
      },
      "source": [
        "data1 = pd.read_csv('Input_to_softmax.csv')"
      ],
      "execution_count": 7,
      "outputs": []
    },
    {
      "cell_type": "code",
      "metadata": {
        "id": "YQiY1l_P_d8g",
        "outputId": "4c6bdf46-4dab-49b1-d17b-3be674e75343",
        "colab": {
          "base_uri": "https://localhost:8080/",
          "height": 187
        }
      },
      "source": [
        "import math\n",
        "\n",
        "def conversion1(data1):\n",
        "  x = len(data1.values)\n",
        "  y = len(data1.values[0])\n",
        "  new_data1 = data1.values\n",
        "  categorical = np.zeros((x,y), dtype = float) \n",
        "  for i in range(x):\n",
        "    summation = 0\n",
        "\n",
        "    for sum in range(y):\n",
        "      summation += math.exp(new_data1[i][sum])\n",
        "\n",
        "    for j in range(y):\n",
        "      value = math.exp(new_data1[i][j])/summation\n",
        "      categorical[[i],[j]] = value\n",
        "\n",
        "  return categorical\n",
        "\n",
        "categorical2 = conversion1(data1)\n",
        "categorical2"
      ],
      "execution_count": 8,
      "outputs": [
        {
          "output_type": "execute_result",
          "data": {
            "text/plain": [
              "array([[0.03192011, 0.2358595 , 0.08676786, 0.00431992, 0.6411326 ],\n",
              "       [0.01105439, 0.08168151, 0.60354924, 0.22203336, 0.08168151],\n",
              "       [0.59229879, 0.21789455, 0.08015892, 0.02948882, 0.08015892],\n",
              "       [0.34829927, 0.12813214, 0.12813214, 0.34829927, 0.04713718],\n",
              "       [0.02591887, 0.19151597, 0.19151597, 0.52059439, 0.07045479],\n",
              "       [0.19151597, 0.07045479, 0.52059439, 0.02591887, 0.19151597],\n",
              "       [0.07629314, 0.56373431, 0.20738626, 0.07629314, 0.07629314],\n",
              "       [0.24760201, 0.03350929, 0.67305204, 0.03350929, 0.01232738],\n",
              "       [0.06745081, 0.49839779, 0.06745081, 0.1833503 , 0.1833503 ],\n",
              "       [0.06745081, 0.06745081, 0.49839779, 0.1833503 , 0.1833503 ]])"
            ]
          },
          "metadata": {
            "tags": []
          },
          "execution_count": 8
        }
      ]
    },
    {
      "cell_type": "code",
      "metadata": {
        "id": "LXeIktSQBlK9"
      },
      "source": [
        ""
      ],
      "execution_count": 8,
      "outputs": []
    },
    {
      "cell_type": "markdown",
      "metadata": {
        "id": "fV27_uhvBnbF"
      },
      "source": [
        "SOLUTION TO Q.NO 3"
      ]
    },
    {
      "cell_type": "code",
      "metadata": {
        "id": "GvhE1iqRuM2x",
        "outputId": "1ae82db8-dd88-4179-bb27-8097aa6eeb2b",
        "colab": {
          "base_uri": "https://localhost:8080/",
          "height": 187
        }
      },
      "source": [
        "a_new = a[0:11,0:5]\n",
        "a_new"
      ],
      "execution_count": 9,
      "outputs": [
        {
          "output_type": "execute_result",
          "data": {
            "text/plain": [
              "array([[0., 0., 0., 0., 1.],\n",
              "       [0., 1., 0., 0., 0.],\n",
              "       [1., 0., 0., 0., 0.],\n",
              "       [0., 0., 0., 1., 0.],\n",
              "       [0., 0., 0., 1., 0.],\n",
              "       [0., 0., 1., 0., 0.],\n",
              "       [0., 0., 0., 0., 1.],\n",
              "       [1., 0., 0., 0., 0.],\n",
              "       [0., 1., 0., 0., 0.],\n",
              "       [0., 0., 1., 0., 0.]])"
            ]
          },
          "metadata": {
            "tags": []
          },
          "execution_count": 9
        }
      ]
    },
    {
      "cell_type": "code",
      "metadata": {
        "id": "TAuqoHmvEn1h",
        "outputId": "552584ad-37d1-43fd-e060-d8f6bce0f890",
        "colab": {
          "base_uri": "https://localhost:8080/",
          "height": 1000
        }
      },
      "source": [
        " import math\n",
        " def calculate_error(a_new , categorical2):\n",
        "\n",
        "   categorical_new = np.zeros((10,1), dtype = float) \n",
        "   \n",
        "   for row in range(10):\n",
        "     rowError = 0\n",
        "     for column in range(5):\n",
        "       print('Row', row)\n",
        "       print('Column', column)\n",
        "       predValue = categorical2[row][column]\n",
        "       targetValue = a_new[row][column]\n",
        "       error = targetValue*(math.log(predValue, 10))\n",
        "       print(predValue)\n",
        "       print(targetValue)\n",
        "       print(error)\n",
        "       rowError += error\n",
        "     categorical_new[[row],[0]] = -(rowError)\n",
        "     \n",
        "       \n",
        "   return categorical_new\n",
        "\n",
        "calculate_error(a_new, categorical2)\n",
        "          \n",
        "\n",
        "\n"
      ],
      "execution_count": 12,
      "outputs": [
        {
          "output_type": "stream",
          "text": [
            "Row 0\n",
            "Column 0\n",
            "0.03192011275871308\n",
            "0.0\n",
            "-0.0\n",
            "Row 0\n",
            "Column 1\n",
            "0.23585950385832297\n",
            "0.0\n",
            "-0.0\n",
            "Row 0\n",
            "Column 2\n",
            "0.0867678624743735\n",
            "0.0\n",
            "-0.0\n",
            "Row 0\n",
            "Column 3\n",
            "0.0043199175011450494\n",
            "0.0\n",
            "-0.0\n",
            "Row 0\n",
            "Column 4\n",
            "0.6411326034074454\n",
            "1.0\n",
            "-0.19305213745113967\n",
            "Row 1\n",
            "Column 0\n",
            "0.011054389912094145\n",
            "0.0\n",
            "-0.0\n",
            "Row 1\n",
            "Column 1\n",
            "0.08168150719991668\n",
            "1.0\n",
            "-1.0878762571776617\n",
            "Row 1\n",
            "Column 2\n",
            "0.6035492389453923\n",
            "0.0\n",
            "-0.0\n",
            "Row 1\n",
            "Column 3\n",
            "0.2220333567426802\n",
            "0.0\n",
            "-0.0\n",
            "Row 1\n",
            "Column 4\n",
            "0.08168150719991668\n",
            "0.0\n",
            "-0.0\n",
            "Row 2\n",
            "Column 0\n",
            "0.5922987857150971\n",
            "1.0\n",
            "-0.22745915771491224\n",
            "Row 2\n",
            "Column 1\n",
            "0.21789454629539376\n",
            "0.0\n",
            "-0.0\n",
            "Row 2\n",
            "Column 2\n",
            "0.08015892392545443\n",
            "0.0\n",
            "-0.0\n",
            "Row 2\n",
            "Column 3\n",
            "0.029488820138600335\n",
            "0.0\n",
            "-0.0\n",
            "Row 2\n",
            "Column 4\n",
            "0.08015892392545443\n",
            "0.0\n",
            "-0.0\n",
            "Row 3\n",
            "Column 0\n",
            "0.3482992693129455\n",
            "0.0\n",
            "-0.0\n",
            "Row 3\n",
            "Column 1\n",
            "0.1281321405552681\n",
            "0.0\n",
            "-0.0\n",
            "Row 3\n",
            "Column 2\n",
            "0.1281321405552681\n",
            "0.0\n",
            "-0.0\n",
            "Row 3\n",
            "Column 3\n",
            "0.3482992693129455\n",
            "1.0\n",
            "-0.4580474366347543\n",
            "Row 3\n",
            "Column 4\n",
            "0.04713718026357273\n",
            "0.0\n",
            "-0.0\n",
            "Row 4\n",
            "Column 0\n",
            "0.025918868635908747\n",
            "0.0\n",
            "-0.0\n",
            "Row 4\n",
            "Column 1\n",
            "0.19151597437154386\n",
            "0.0\n",
            "-0.0\n",
            "Row 4\n",
            "Column 2\n",
            "0.19151597437154386\n",
            "0.0\n",
            "-0.0\n",
            "Row 4\n",
            "Column 3\n",
            "0.5205943929937958\n",
            "1.0\n",
            "-0.28350051372384\n",
            "Row 4\n",
            "Column 4\n",
            "0.07045478962720782\n",
            "0.0\n",
            "-0.0\n",
            "Row 5\n",
            "Column 0\n",
            "0.19151597437154386\n",
            "0.0\n",
            "-0.0\n",
            "Row 5\n",
            "Column 1\n",
            "0.07045478962720782\n",
            "0.0\n",
            "-0.0\n",
            "Row 5\n",
            "Column 2\n",
            "0.5205943929937958\n",
            "1.0\n",
            "-0.28350051372384\n",
            "Row 5\n",
            "Column 3\n",
            "0.025918868635908747\n",
            "0.0\n",
            "-0.0\n",
            "Row 5\n",
            "Column 4\n",
            "0.19151597437154386\n",
            "0.0\n",
            "-0.0\n",
            "Row 6\n",
            "Column 0\n",
            "0.07629314247787523\n",
            "0.0\n",
            "-0.0\n",
            "Row 6\n",
            "Column 1\n",
            "0.5637343097327291\n",
            "0.0\n",
            "-0.0\n",
            "Row 6\n",
            "Column 2\n",
            "0.20738626283364517\n",
            "0.0\n",
            "-0.0\n",
            "Row 6\n",
            "Column 3\n",
            "0.07629314247787523\n",
            "0.0\n",
            "-0.0\n",
            "Row 6\n",
            "Column 4\n",
            "0.07629314247787523\n",
            "1.0\n",
            "-1.1175144963552066\n",
            "Row 7\n",
            "Column 0\n",
            "0.247602007776674\n",
            "1.0\n",
            "-0.6062458379928118\n",
            "Row 7\n",
            "Column 1\n",
            "0.033509287852410155\n",
            "0.0\n",
            "-0.0\n",
            "Row 7\n",
            "Column 2\n",
            "0.673052038429308\n",
            "0.0\n",
            "-0.0\n",
            "Row 7\n",
            "Column 3\n",
            "0.033509287852410155\n",
            "0.0\n",
            "-0.0\n",
            "Row 7\n",
            "Column 4\n",
            "0.01232737808919765\n",
            "0.0\n",
            "-0.0\n",
            "Row 8\n",
            "Column 0\n",
            "0.06745080586634482\n",
            "0.0\n",
            "-0.0\n",
            "Row 8\n",
            "Column 1\n",
            "0.4983977884645025\n",
            "1.0\n",
            "-0.30242389343515086\n",
            "Row 8\n",
            "Column 2\n",
            "0.06745080586634482\n",
            "0.0\n",
            "-0.0\n",
            "Row 8\n",
            "Column 3\n",
            "0.1833502999014039\n",
            "0.0\n",
            "-0.0\n",
            "Row 8\n",
            "Column 4\n",
            "0.1833502999014039\n",
            "0.0\n",
            "-0.0\n",
            "Row 9\n",
            "Column 0\n",
            "0.06745080586634483\n",
            "0.0\n",
            "-0.0\n",
            "Row 9\n",
            "Column 1\n",
            "0.06745080586634483\n",
            "0.0\n",
            "-0.0\n",
            "Row 9\n",
            "Column 2\n",
            "0.4983977884645025\n",
            "1.0\n",
            "-0.30242389343515086\n",
            "Row 9\n",
            "Column 3\n",
            "0.18335029990140392\n",
            "0.0\n",
            "-0.0\n",
            "Row 9\n",
            "Column 4\n",
            "0.18335029990140392\n",
            "0.0\n",
            "-0.0\n"
          ],
          "name": "stdout"
        },
        {
          "output_type": "execute_result",
          "data": {
            "text/plain": [
              "array([[0.19305214],\n",
              "       [1.08787626],\n",
              "       [0.22745916],\n",
              "       [0.45804744],\n",
              "       [0.28350051],\n",
              "       [0.28350051],\n",
              "       [1.1175145 ],\n",
              "       [0.60624584],\n",
              "       [0.30242389],\n",
              "       [0.30242389]])"
            ]
          },
          "metadata": {
            "tags": []
          },
          "execution_count": 12
        }
      ]
    },
    {
      "cell_type": "code",
      "metadata": {
        "id": "fcwLhxEvUTEw"
      },
      "source": [
        ""
      ],
      "execution_count": null,
      "outputs": []
    }
  ]
}